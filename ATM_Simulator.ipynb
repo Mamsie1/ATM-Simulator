{
  "nbformat": 4,
  "nbformat_minor": 0,
  "metadata": {
    "colab": {
      "provenance": []
    },
    "kernelspec": {
      "name": "python3",
      "display_name": "Python 3"
    },
    "language_info": {
      "name": "python"
    }
  },
  "cells": [
    {
      "cell_type": "code",
      "execution_count": 2,
      "metadata": {
        "colab": {
          "base_uri": "https://localhost:8080/",
          "height": 0
        },
        "id": "S8exMtoP8X6U",
        "outputId": "f76ae2b9-098b-4c10-f890-d37001632bf7"
      },
      "outputs": [
        {
          "name": "stdout",
          "output_type": "stream",
          "text": [
            "===== Welcome to ATM =====\n",
            "1. Check Balance\n",
            "2. Deposit\n",
            "3. Withdraw\n",
            "4. Exit\n",
            "Enter your choice: 1\n",
            "Your balance is:  100000\n",
            "===== Welcome to ATM =====\n",
            "1. Check Balance\n",
            "2. Deposit\n",
            "3. Withdraw\n",
            "4. Exit\n",
            "Enter your choice: 4\n"
          ]
        }
      ],
      "source": [
        "balance = 100000\n",
        "\n",
        "while True:\n",
        "  print(\"===== Welcome to ATM =====\")\n",
        "  print(\"1. Check Balance\")\n",
        "  print(\"2. Deposit\")\n",
        "  print(\"3. Withdraw\")\n",
        "  print(\"4. Exit\")\n",
        "\n",
        "  choice = int(input(\"Enter your choice: \"))\n",
        "\n",
        "  if choice == 1:\n",
        "    print(\"Your balance is: \", balance)\n",
        "  elif choice == 2:\n",
        "    amount = int(input(\"Enter amount to deposit: \"))\n",
        "    if amount > 0:\n",
        "      balance = balance + amount\n",
        "      print(\"Your new balance is: \", balance)\n",
        "    else:\n",
        "      print(\"Invalid amount\")\n",
        "  elif choice == 3:\n",
        "    amount = int(input(\"Enter amount to withdraw: \"))\n",
        "    if amount > 0 and amount <= balance:\n",
        "      balance = balance - amount\n",
        "      print(\"Your new balance is: \", balance)\n",
        "    elif amount <= 0:\n",
        "      print(\"Invalid amount\")\n",
        "    else:\n",
        "      print(\"Insufficient balance\")\n",
        "  else:\n",
        "    break\n"
      ]
    }
  ]
}